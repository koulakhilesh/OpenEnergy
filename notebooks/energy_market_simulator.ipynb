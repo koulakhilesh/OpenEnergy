{
 "cells": [
  {
   "cell_type": "markdown",
   "metadata": {},
   "source": [
    "# Energy Market Simulator Analysis\n"
   ]
  },
  {
   "cell_type": "markdown",
   "metadata": {},
   "source": [
    "## Introduction\n",
    "\n",
    "This notebook explores the dynamics of operating a battery within an energy market environment, focusing on the optimization of charging and discharging activities based on market prices. The goal is to develop a strategy that maximizes profits (or minimizes costs) by intelligently deciding when to store energy and when to sell it back to the grid. \n",
    "\n",
    "The analysis is built around a simulation that incorporates a battery model, market price data, and a scheduling algorithm. This allows us to:\n",
    "\n",
    "- Understand how different price patterns affect operational decisions.\n",
    "- Measure the impact of battery efficiency and capacity on financial outcomes.\n",
    "- Explore the potential of batteries in energy arbitrage and peak shaving.\n",
    "\n",
    "The simulation is intended for energy storage system operators, investors, and researchers looking to optimize battery usage in energy markets. By the end of this notebook, we aim to provide insights into effective battery management and market participation strategies that enhance the value of energy storage.\n"
   ]
  },
  {
   "cell_type": "markdown",
   "metadata": {},
   "source": [
    "## Setup\n",
    "\n",
    "In this section, we will import necessary libraries and define our environment setup. This includes setting up any required data structures and ensuring that our simulation environment is ready for analysis."
   ]
  },
  {
   "cell_type": "code",
   "execution_count": 1,
   "metadata": {},
   "outputs": [],
   "source": [
    "# Import necessary libraries\n",
    "import os\n",
    "import sys\n",
    "import pandas as pd\n",
    "import numpy as np\n",
    "import pulp\n",
    "import matplotlib.pyplot as plt\n",
    "import seaborn as sns\n",
    "from datetime import datetime, timedelta\n",
    "# Ensure you have tqdm installed for progress bars\n",
    "from tqdm.notebook import tqdm\n",
    "\n",
    "module_path = os.path.abspath(os.path.join('../'))\n",
    "\n",
    "\n",
    "if module_path not in sys.path:\n",
    "    sys.path.append(module_path)\n",
    "\n",
    "# Set up plotting aesthetics (optional) using seaborn\n",
    "sns.set(style=\"whitegrid\")  # Set the style of the plots to whitegrid\n",
    "\n",
    "# This ensures that plots are displayed inline in the Jupyter notebook\n",
    "%matplotlib inline\n"
   ]
  },
  {
   "cell_type": "code",
   "execution_count": 3,
   "metadata": {},
   "outputs": [],
   "source": [
    "# Set a random seed for reproducibility\n",
    "np.random.seed(42)\n",
    "\n",
    "# Configure pandas to display more rows or columns as needed\n",
    "pd.set_option('display.max_columns', 50)\n",
    "pd.set_option('display.max_rows', 100)\n",
    "\n",
    "# Any other global configurations can go here\n"
   ]
  },
  {
   "cell_type": "code",
   "execution_count": 4,
   "metadata": {},
   "outputs": [
    {
     "name": "stderr",
     "output_type": "stream",
     "text": [
      "ssssssssssssssssssssssssssssssssssssssssssssssssssssssssssssssssssssssssssssssssssssssssssssssssssssssssssssssssssssssss"
     ]
    },
    {
     "name": "stdout",
     "output_type": "stream",
     "text": [
      "PuLP Version: 2.7.0\n"
     ]
    },
    {
     "name": "stderr",
     "output_type": "stream",
     "text": [
      "sssssssssssssssssssssssssssssssssssssssssssssssssssssssssssssssssssssssssssssssssssssssssssssssssssssssssssssssssssssssssssssssssssssssssssssssssssssssssssssssssssssssssssssss................."
     ]
    },
    {
     "name": "stdout",
     "output_type": "stream",
     "text": [
      "\t Test that logic put in place for deprecation handling of indexs works\n",
      "\t Testing 'indexs' param continues to work for LpVariable.dicts\n",
      "\t Testing 'indexs' param continues to work for LpVariable.matrix\n",
      "\t Testing 'indices' argument works in LpVariable.dicts\n",
      "\t Testing 'indices' param continues to work for LpVariable.matrix\n",
      "\t Testing invalid status\n",
      "\t Testing continuous LP solution - export dict\n",
      "\t Testing export dict for LP\n",
      "\t Testing export dict MIP\n",
      "\t Testing maximize continuous LP solution\n",
      "\t Testing continuous LP solution - export JSON\n",
      "\t Testing continuous LP solution - export solver dict\n",
      "\t Testing continuous LP solution - export solver JSON\n",
      "\t Testing reading MPS files - binary variable, no constraint names\n",
      "\t Testing reading MPS files - integer variable\n",
      "\t Testing reading MPS files - maximize\n",
      "\t Testing reading MPS files - noname\n"
     ]
    },
    {
     "name": "stderr",
     "output_type": "stream",
     "text": [
      "................."
     ]
    },
    {
     "name": "stdout",
     "output_type": "stream",
     "text": [
      "\t Testing invalid var names\n",
      "\t Testing makeDict general behavior\n",
      "\t Testing makeDict default value behavior\n",
      "\t Testing measuring optimization time\n",
      "\t Testing that `readsol` can parse CPLEX mipopt solution\n",
      "\t Testing the availability of the function pulpTestAll\n",
      "\t Testing zero subtraction\n",
      "\t Testing inconsistent lp solution\n",
      "\t Testing continuous LP solution\n",
      "\t Testing maximize continuous LP solution\n",
      "\t Testing unbounded continuous LP solution\n",
      "\t Testing Long Names\n",
      "\t Testing repeated Names\n",
      "\t Testing zero constraint\n",
      "\t Testing zero objective\n"
     ]
    },
    {
     "name": "stderr",
     "output_type": "stream",
     "text": [
      "........"
     ]
    },
    {
     "name": "stdout",
     "output_type": "stream",
     "text": [
      "\t Testing LpVariable (not LpAffineExpression) objective\n",
      "\t Testing LpAffineExpression divide\n",
      "\t Testing MIP solution\n",
      "\t Testing MIP solution with floats in objective\n",
      "\t Testing Initial value in MIP solution\n",
      "\t Testing fixing value in MIP solution\n",
      "\t Testing MIP relaxation\n"
     ]
    },
    {
     "name": "stderr",
     "output_type": "stream",
     "text": [
      "............"
     ]
    },
    {
     "name": "stdout",
     "output_type": "stream",
     "text": [
      "\t Testing feasibility problem (no objective)\n",
      "\t Testing an infeasible problem\n",
      "\t Testing an integer infeasible problem\n",
      "\t Testing another integer infeasible problem\n",
      "\t Testing column based modelling\n",
      "\t Testing fractional constraints\n",
      "\t Testing elastic constraints (no change)\n",
      "\t Testing elastic constraints (freebound)\n"
     ]
    },
    {
     "name": "stderr",
     "output_type": "stream",
     "text": [
      ".....ssssssssssssssssssssssssssssssssssssssssssssssssssssssssssssssssssssss"
     ]
    },
    {
     "name": "stdout",
     "output_type": "stream",
     "text": [
      "\t Testing elastic constraints (penalty unchanged)\n",
      "\t Testing elastic constraints (penalty unbounded)\n",
      "\t Testing timeLimit argument\n"
     ]
    },
    {
     "name": "stderr",
     "output_type": "stream",
     "text": [
      "sssssssssssssssssssssssssssssssssssssssssssssssssssssssssssssssssssssssssssssssssssssssssssssssssssssssssssssssssssssssssssssssssssssssssssssssssssssssssssssssssssssssssssssssssssssssssssssssssssssssssssssssssssssssssssssssssssssssssssssssssssssssssssssssssssssssssssssssssssssssssssssssssssssssssssssssssssssssssssssssssssssssssssssssssssssssssssssssssssssssssssssssssssssssssssssssssssssssssssssssssssssssssssssssssssssssssssssssssssssssssssssssssssssssssssssssssssssssssssssssssssssssssssssssssssssssssssssssssssssssssssssssssssssssssssssssssssssssssssssssssssssssssssssssssss\n",
      "----------------------------------------------------------------------\n",
      "Ran 1003 tests in 2.898s\n",
      "\n",
      "OK (skipped=944)\n"
     ]
    }
   ],
   "source": [
    "# Check the installation of PuLP and list available solvers\n",
    "print(\"PuLP Version:\", pulp.__version__)\n",
    "pulp.pulpTestAll()\n"
   ]
  },
  {
   "cell_type": "markdown",
   "metadata": {},
   "source": [
    "## Price Data Generation\n",
    "\n",
    "Effective energy market simulation relies on accurate and realistic price data. This section focuses on generating and preparing price data that reflects market conditions for each interval within our simulation period. We will implement two approaches:\n",
    "\n",
    "1. **Random Price Data Generation**: For initial testing and development, we'll generate synthetic price data that mimics market fluctuations.\n",
    "2. **Placeholder Price Data**: We'll also create a method to generate placeholder price data, which could be replaced with actual market data in a real-world scenario.\n",
    "\n",
    "This approach allows us to test our simulation under controlled conditions before applying it to real market data.\n"
   ]
  },
  {
   "cell_type": "code",
   "execution_count": 5,
   "metadata": {},
   "outputs": [],
   "source": [
    "import random\n",
    "import pandas as pd\n",
    "from scripts.prices import PriceSimulator"
   ]
  },
  {
   "cell_type": "code",
   "execution_count": 6,
   "metadata": {},
   "outputs": [
    {
     "name": "stdout",
     "output_type": "stream",
     "text": [
      "   Random Prices  Placeholder Prices\n",
      "0      17.087847                  20\n",
      "1      13.550367                  25\n",
      "2      13.127307                  20\n",
      "3      14.374618                  25\n",
      "4      25.426997                  20\n"
     ]
    }
   ],
   "source": [
    "# Generate random price data\n",
    "random_prices = PriceSimulator.load_random_price_data()\n",
    "\n",
    "# Generate placeholder price data\n",
    "placeholder_prices = PriceSimulator.load_placeholder_price_data()\n",
    "\n",
    "# Optionally, convert these lists to a pandas DataFrame for further manipulation or visualization\n",
    "prices_df = pd.DataFrame({\n",
    "    \"Random Prices\": random_prices,\n",
    "    \"Placeholder Prices\": placeholder_prices\n",
    "})\n",
    "\n",
    "# Display the first few rows of the DataFrame\n",
    "print(prices_df.head())"
   ]
  },
  {
   "cell_type": "markdown",
   "metadata": {},
   "source": [
    "## Battery Model\n",
    "\n",
    "The effectiveness of energy storage in market operations significantly depends on the battery's characteristics and behavior. The `Battery` class defined in this section models these aspects, enabling us to simulate realistic battery operations within the energy market. Key features of the battery model include:\n",
    "\n",
    "- **Capacity**: The total energy capacity of the battery, measured in megawatt-hours (MWh).\n",
    "- **Charge and Discharge Efficiencies**: These efficiencies account for energy loss during charging and discharging processes.\n",
    "- **State of Charge (SOC)**: Represents the current energy level in the battery as a percentage of its total capacity.\n",
    "- **(Optional) State of Health (SOH)**: A measure of the battery's overall condition and capacity to store energy, which may degrade over time due to cycling.\n",
    "\n",
    "This model allows us to track the battery's performance and operational capabilities throughout the simulation.\n"
   ]
  },
  {
   "cell_type": "code",
   "execution_count": 7,
   "metadata": {},
   "outputs": [],
   "source": [
    "from scripts.battery import Battery"
   ]
  },
  {
   "cell_type": "code",
   "execution_count": 8,
   "metadata": {},
   "outputs": [
    {
     "name": "stdout",
     "output_type": "stream",
     "text": [
      "Initial SOC: 50.00%\n",
      "SOC after charging: 59.00%\n",
      "SOC after discharging: 50.00%\n"
     ]
    }
   ],
   "source": [
    "# Example usage\n",
    "# Create a battery instance\n",
    "battery = Battery(capacity_mwh=100, charge_efficiency=0.9, discharge_efficiency=0.9)\n",
    "print(f\"Initial SOC: {battery.get_soc()*100:.2f}%\")\n",
    "\n",
    "# Example: Charge the battery\n",
    "battery.charge(10)  # Charge with 10 MWh\n",
    "print(f\"SOC after charging: {battery.get_soc()*100:.2f}%\")\n",
    "\n",
    "# Example: Discharge the battery\n",
    "battery.discharge(10)  # Discharge 5 MWh\n",
    "print(f\"SOC after discharging: {battery.get_soc()*100:.2f}%\")"
   ]
  },
  {
   "cell_type": "markdown",
   "metadata": {},
   "source": [
    "## Market Scheduler\n",
    "\n",
    "The Market Scheduler plays a pivotal role in the energy market simulation by determining the optimal times for the battery to charge or discharge. This decision-making process is guided by the goal of maximizing economic returns or minimizing costs, taking into account the varying energy prices throughout the day.\n",
    "\n",
    "To achieve this, we use Mixed Integer Linear Programming (MILP) to create a schedule that optimizes the battery's operations against the forecasted market prices. The scheduler considers the battery's characteristics, such as its capacity, charge and discharge efficiencies, and current state of charge (SOC), to ensure that the proposed schedule is feasible and aligns with the physical constraints of the battery system.\n",
    "\n",
    "### Implementation\n",
    "\n",
    "The Market Scheduler will be implemented using the `PuLP` library, a popular linear programming (LP) modeler written in Python. It allows us to define the optimization problem, set up the objective function and constraints, and solve for the optimal schedule.\n"
   ]
  },
  {
   "cell_type": "code",
   "execution_count": 9,
   "metadata": {},
   "outputs": [],
   "source": [
    "from scripts.scheduler import MarketScheduler"
   ]
  },
  {
   "cell_type": "code",
   "execution_count": 10,
   "metadata": {},
   "outputs": [
    {
     "name": "stdout",
     "output_type": "stream",
     "text": [
      "   Interval  Action  Value\n",
      "0         0    idle    0.0\n",
      "1         1    idle    0.0\n",
      "2         2    idle    0.0\n",
      "3         3  charge   50.0\n",
      "4         4    idle    0.0\n"
     ]
    }
   ],
   "source": [
    "# Example usage\n",
    "battery = Battery(capacity_mwh=100, charge_efficiency=0.9, discharge_efficiency=0.85, initial_soc=0.5)\n",
    "market_prices = [20, 22, 18, 15, 25, 30, 28, 18, 16, 14, 20, 22]  # Example market prices\n",
    "scheduler = MarketScheduler(battery, market_prices)\n",
    "optimal_schedule = scheduler.create_schedule()\n",
    "\n",
    "print(optimal_schedule.head())"
   ]
  },
  {
   "cell_type": "markdown",
   "metadata": {},
   "source": [
    "## Energy Market Simulator\n",
    "\n",
    "With the `Battery` model and `MarketScheduler` in place, along with our methods for generating price data, we are now equipped to simulate the operation of a battery within an energy market. The Energy Market Simulator orchestrates the interaction between these components, simulating daily operations based on market prices and optimizing the battery's charging and discharging schedule to maximize profitability.\n",
    "\n",
    "The simulation will proceed through a series of steps:\n",
    "1. Generate or load market price data for the simulation period.\n",
    "2. Use the `MarketScheduler` to determine the optimal charging and discharging schedule for each day, based on the generated price data.\n",
    "3. Update the battery's state of charge (SOC) according to the schedule, and calculate the profit or loss (P&L) for each day's operations.\n",
    "4. Aggregate the results to analyze the overall performance of the battery in the simulated market environment.\n",
    "\n",
    "This process will provide insights into the economic viability of battery storage systems in energy markets, highlighting how different strategies and market conditions can impact profitability.\n"
   ]
  },
  {
   "cell_type": "code",
   "execution_count": 11,
   "metadata": {},
   "outputs": [],
   "source": [
    "from datetime import date, timedelta\n",
    "import pandas as pd\n",
    "from scripts.energy_market_simulator import EnergyMarketSimulator"
   ]
  },
  {
   "cell_type": "code",
   "execution_count": 12,
   "metadata": {},
   "outputs": [
    {
     "name": "stderr",
     "output_type": "stream",
     "text": [
      "Processing Days: 100%|██████████| 31/31 [00:01<00:00, 16.39it/s]"
     ]
    },
    {
     "name": "stdout",
     "output_type": "stream",
     "text": [
      "Total P&L from 2023-01-01 to 2023-01-31: 508.56724148349844\n"
     ]
    },
    {
     "name": "stderr",
     "output_type": "stream",
     "text": [
      "\n"
     ]
    }
   ],
   "source": [
    "battery = Battery(capacity_mwh=100, charge_efficiency=0.9, discharge_efficiency=0.85, initial_soc=0.5)\n",
    "simulator = EnergyMarketSimulator(start_date=date(2023, 1, 1), end_date=date(2023, 1, 31), battery=battery)\n",
    "results = simulator.simulate()"
   ]
  },
  {
   "cell_type": "markdown",
   "metadata": {},
   "source": [
    "## Simulation Results and Analysis\n",
    "\n",
    "After running the Energy Market Simulator over the specified period, we now have a dataset comprising daily operational schedules for the battery and the resulting profit or loss (P&L) for each day. This section is dedicated to analyzing these results to extract meaningful insights into the battery's performance and its economic implications within the energy market.\n",
    "\n",
    "The analysis will cover:\n",
    "- A summary of financial performance, including total profits or losses.\n",
    "- Operational efficiency, focusing on how well the battery was utilized.\n",
    "- The impact of market price fluctuations on the battery's operational strategy.\n",
    "- Recommendations for optimizing battery usage in future market conditions.\n",
    "\n",
    "By examining these aspects, we aim to understand the value proposition of deploying energy storage systems in dynamic market environments and identify strategies for enhancing their economic viability.\n"
   ]
  },
  {
   "cell_type": "code",
   "execution_count": 13,
   "metadata": {},
   "outputs": [
    {
     "name": "stdout",
     "output_type": "stream",
     "text": [
      "Total P&L: 508.5672414834984\n",
      "        Daily PnL\n",
      "count   31.000000\n",
      "mean    16.405395\n",
      "std     75.108911\n",
      "min      0.000000\n",
      "25%      0.000000\n",
      "50%      0.000000\n",
      "75%      0.024918\n",
      "max    415.666301\n"
     ]
    }
   ],
   "source": [
    "# Summary Statistics\n",
    "\n",
    "# Assuming `results` is a list of tuples containing (date, schedule_df, daily_pnl)\n",
    "# Convert the results into a DataFrame for easier analysis\n",
    "results_df = pd.DataFrame(results, columns=['Date', 'Schedule', 'Daily PnL'])\n",
    "\n",
    "# Calculate total P&L and other summary statistics\n",
    "total_pnl = results_df['Daily PnL'].sum()\n",
    "print(f\"Total P&L: {total_pnl}\")\n",
    "print(results_df.describe())\n"
   ]
  },
  {
   "cell_type": "code",
   "execution_count": 14,
   "metadata": {},
   "outputs": [
    {
     "data": {
      "image/png": "[encoded data removed]",
      "text/plain": [
       "<Figure size 1000x600 with 1 Axes>"
      ]
     },
     "metadata": {},
     "output_type": "display_data"
    }
   ],
   "source": [
    "# Visualization of Financial Performance\n",
    "import matplotlib.pyplot as plt\n",
    "\n",
    "# Plot Daily P&L\n",
    "plt.figure(figsize=(10, 6))\n",
    "plt.plot(results_df['Date'], results_df['Daily PnL'], marker='o', linestyle='-', color='blue')\n",
    "plt.title('Daily Profit and Loss')\n",
    "plt.xlabel('Date')\n",
    "plt.ylabel('P&L')\n",
    "plt.grid(True)\n",
    "plt.show()\n"
   ]
  },
  {
   "cell_type": "code",
   "execution_count": 15,
   "metadata": {},
   "outputs": [],
   "source": [
    "# Aggregate Total Charge and Total Discharge for each day\n",
    "results_df['Total Charge'] = results_df['Schedule'].apply(lambda df: df[df['Action'] == 'charge']['Value'].sum())\n",
    "results_df['Total Discharge'] = results_df['Schedule'].apply(lambda df: df[df['Action'] == 'discharge']['Value'].sum())\n"
   ]
  },
  {
   "cell_type": "code",
   "execution_count": 16,
   "metadata": {},
   "outputs": [
    {
     "data": {
      "image/png": "[encoded data removed]",
      "text/plain": [
       "<Figure size 1000x600 with 1 Axes>"
      ]
     },
     "metadata": {},
     "output_type": "display_data"
    }
   ],
   "source": [
    "plt.figure(figsize=(10, 6))\n",
    "plt.plot(results_df['Date'], results_df['Total Charge'], label='Total Charge', color='green')\n",
    "plt.plot(results_df['Date'], results_df['Total Discharge'], label='Total Discharge', color='red')\n",
    "plt.title('Daily Battery Utilization')\n",
    "plt.xlabel('Date')\n",
    "plt.ylabel('Energy (MWh)')\n",
    "plt.legend()\n",
    "plt.grid(True)\n",
    "plt.show()"
   ]
  },
  {
   "cell_type": "markdown",
   "metadata": {},
   "source": [
    "## Conclusion\n",
    "\n",
    "The simulation of battery operations within the energy market, spanning from the generation of market price data to the detailed analysis of operational strategies and their financial outcomes, has provided valuable insights into the dynamics of energy storage systems in market environments. Through this exercise, we've explored the economic viability and operational efficiency of using a battery to capitalize on energy price fluctuations.\n",
    "\n",
    "### Key Findings:\n",
    "\n",
    "- **Market Sensitivity**: The battery's profitability is highly sensitive to market price fluctuations, highlighting the importance of accurate price forecasting and strategic operational planning.\n",
    "- **Operational Efficiency**: Maximizing the battery's charge and discharge efficiency plays a crucial role in enhancing overall profitability. This underscores the need for ongoing maintenance and optimization of battery systems.\n",
    "- **Strategic Scheduling**: The simulation demonstrated the potential for significant economic benefits through strategic scheduling, emphasizing the value of advanced algorithms and models in decision-making processes.\n",
    "\n",
    "### Implications:\n",
    "\n",
    "The results of this simulation have several implications for operators of battery storage systems and stakeholders in the energy market:\n",
    "\n",
    "- **Investment in Forecasting Technologies**: Investing in advanced forecasting technologies can improve the accuracy of market price predictions, thereby enhancing the effectiveness of operational strategies.\n",
    "- **Battery Technology Improvements**: Continued advancements in battery technology, particularly in improving charge and discharge efficiencies and extending battery life, are vital for increasing the economic competitiveness of energy storage systems.\n",
    "- **Policy and Market Mechanisms**: The simulation highlights the potential for policy and market mechanisms to support the integration of energy storage systems, such as incentives for energy arbitrage and services that enhance grid stability.\n",
    "\n",
    "### Future Directions:\n",
    "\n",
    "Further research and exploration could focus on several areas to build upon the findings of this simulation:\n",
    "\n",
    "- **Advanced Optimization Techniques**: Exploring more sophisticated optimization algorithms could uncover new strategies for maximizing profitability.\n",
    "- **Real-World Data Application**: Applying the simulation model to real-world market data and operational scenarios would validate its effectiveness and reveal additional insights.\n",
    "- **Integration with Renewable Energy Sources**: Investigating the role of battery storage in conjunction with renewable energy sources could offer strategies for mitigating intermittency and enhancing the reliability of green energy.\n",
    "\n",
    "### Closing Thoughts:\n",
    "\n",
    "This simulation project has shed light on the complex interplay between battery operations and energy market dynamics. As the energy landscape continues to evolve, the role of battery storage as a flexible and responsive asset will undoubtedly grow, offering both challenges and opportunities for innovation in energy management and market participation.\n"
   ]
  },
  {
   "cell_type": "code",
   "execution_count": null,
   "metadata": {},
   "outputs": [],
   "source": []
  }
 ],
 "metadata": {
  "kernelspec": {
   "display_name": "OpenEnergy",
   "language": "python",
   "name": "python3"
  },
  "language_info": {
   "codemirror_mode": {
    "name": "ipython",
    "version": 3
   },
   "file_extension": ".py",
   "mimetype": "text/x-python",
   "name": "python",
   "nbconvert_exporter": "python",
   "pygments_lexer": "ipython3",
   "version": "3.10.13"
  }
 },
 "nbformat": 4,
 "nbformat_minor": 2
}

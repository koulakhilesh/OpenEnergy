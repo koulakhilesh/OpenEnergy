{
 "cells": [
  {
   "cell_type": "markdown",
   "metadata": {},
   "source": [
    "# Historical Average Price Model\n",
    "\n",
    "This notebook provides an overview of the `HistoricalAveragePriceModel` class, which calculates the average prices for the last week and the prices for a given date. The data used in this model is provided by the `CSVDataProvider` class, which reads data from a CSV file.\n",
    "\n",
    "At present the data available ranges from 2014-12-31T23:00:00Z to 2020-09-30T23:00:00Z."
   ]
  },
  {
   "cell_type": "code",
   "execution_count": 1,
   "metadata": {},
   "outputs": [],
   "source": [
    "# Import necessary libraries\n",
    "import os\n",
    "import sys\n",
    "import pandas as pd\n",
    "import matplotlib.pyplot as plt\n",
    "import matplotlib.patches as mpatches\n",
    "import seaborn as sns\n",
    "import datetime\n",
    "\n",
    "sns.set(style=\"whitegrid\")\n",
    "\n",
    "module_path = os.path.abspath(os.path.join('../'))\n",
    "\n",
    "if module_path not in sys.path:\n",
    "    sys.path.append(module_path)\n",
    "\n",
    "from scripts.prices import CSVDataProvider, HistoricalAveragePriceModel\n",
    "\n",
    "%matplotlib inline"
   ]
  },
  {
   "cell_type": "markdown",
   "metadata": {},
   "source": [
    "## Data Loading\n",
    "\n",
    "First, we need to load the data. We use the `CSVDataProvider` class to read the data from a CSV file."
   ]
  },
  {
   "cell_type": "code",
   "execution_count": null,
   "metadata": {},
   "outputs": [],
   "source": [
    "csv_file_path = os.path.join(module_path, \"data\", \"time_series\", \"time_series_60min_singleindex_filtered.csv\")\n",
    "data_provider = CSVDataProvider(csv_file_path)\n",
    "data = data_provider.get_data()"
   ]
  },
  {
   "cell_type": "markdown",
   "metadata": {},
   "source": [
    "## Exploratory Data Analysis (EDA)\n",
    "\n",
    "Let's explore the data to understand its structure and content."
   ]
  },
  {
   "cell_type": "code",
   "execution_count": null,
   "metadata": {},
   "outputs": [],
   "source": [
    "# Display the first few rows of the data\n",
    "price_data = data[['utc_timestamp','GB_GBN_price_day_ahead']]\n",
    "print(price_data.head())\n",
    "\n",
    "# Display the data types of each column\n",
    "print(price_data.dtypes)\n",
    "\n",
    "# Display the number of missing values in each column\n",
    "print(price_data.isna().sum())"
   ]
  },
  {
   "cell_type": "markdown",
   "metadata": {},
   "source": [
    "## Data Visualization\n",
    "\n",
    "Let's visualize the data to gain more insights."
   ]
  },
  {
   "cell_type": "markdown",
   "metadata": {},
   "source": [
    "### Distribution of GB_GBN_price_day_ahead\n",
    "\n",
    "This plot shows the distribution of 'GB_GBN_price_day_ahead'. The histogram represents the frequency of different price levels, and the line represents the kernel density estimate."
   ]
  },
  {
   "cell_type": "code",
   "execution_count": null,
   "metadata": {},
   "outputs": [],
   "source": [
    "# Plot the distribution of 'GB_GBN_price_day_ahead'\n",
    "sns.histplot(data['GB_GBN_price_day_ahead'].dropna(), kde=True)\n",
    "plt.title('Distribution of GB_GBN_price_day_ahead')\n",
    "plt.show()\n"
   ]
  },
  {
   "cell_type": "markdown",
   "metadata": {},
   "source": [
    "### GB_GBN_price_day_ahead over Time\n",
    "\n",
    "This plot shows 'GB_GBN_price_day_ahead' over time. The line represents the price at different points in time."
   ]
  },
  {
   "cell_type": "code",
   "execution_count": null,
   "metadata": {},
   "outputs": [],
   "source": [
    "# Plot the 'GB_GBN_price_day_ahead' over time\n",
    "data.set_index('utc_timestamp')['GB_GBN_price_day_ahead'].plot()\n",
    "plt.title('GB_GBN_price_day_ahead over Time')\n",
    "plt.show()"
   ]
  },
  {
   "cell_type": "markdown",
   "metadata": {},
   "source": [
    "### Mean and Standard Deviation of GB_GBN_price_day_ahead by Hour\n",
    "\n",
    "This plot shows the mean and standard deviation of 'GB_GBN_price_day_ahead' for each hour of the day. The blue line represents the mean, and the shaded area represents the standard deviation."
   ]
  },
  {
   "cell_type": "code",
   "execution_count": null,
   "metadata": {},
   "outputs": [],
   "source": [
    "\n",
    "# Extract the hour from the 'utc_timestamp' column\n",
    "data['hour'] = data['utc_timestamp'].dt.hour\n",
    "\n",
    "# Calculate the mean and standard deviation of 'GB_GBN_price_day_ahead' for each hour\n",
    "mean_prices = data.groupby('hour')['GB_GBN_price_day_ahead'].mean()\n",
    "std_prices = data.groupby('hour')['GB_GBN_price_day_ahead'].std()\n",
    "\n",
    "# Create a new DataFrame for the mean and standard deviation\n",
    "price_data = pd.DataFrame({'mean': mean_prices, 'std': std_prices})\n",
    "\n",
    "# Plot the mean and standard deviation\n",
    "price_data['mean'].plot(color='dodgerblue', label='Mean')\n",
    "plt.fill_between(price_data.index, price_data['mean'] - price_data['std'], price_data['mean'] + price_data['std'], color='skyblue', alpha=0.5)\n",
    "\n",
    "# Create a legend for the mean and standard deviation\n",
    "mean_patch = mpatches.Patch(color='dodgerblue', label='Mean')\n",
    "std_patch = mpatches.Patch(color='skyblue', alpha=0.5, label='Std Dev')\n",
    "plt.legend(handles=[mean_patch, std_patch])\n",
    "\n",
    "plt.title('Mean and Standard Deviation of GB_GBN_price_day_ahead by Hour')\n",
    "plt.xlabel('Hour')\n",
    "plt.ylabel('GB_GBN_price_day_ahead')\n",
    "plt.show()"
   ]
  },
  {
   "cell_type": "markdown",
   "metadata": {},
   "source": [
    "## Historical Average Price Model\n",
    "\n",
    "Now, let's use the Historical Average Price Model to analyze the data."
   ]
  },
  {
   "cell_type": "code",
   "execution_count": null,
   "metadata": {},
   "outputs": [],
   "source": [
    "model = HistoricalAveragePriceModel(data_provider)\n",
    "date = datetime.date(2020, 9, 30)  # replace with your date\n",
    "average_prices_last_week, prices_current_date = model.get_prices(date)\n",
    "\n",
    "# Display the average prices last week\n",
    "print(average_prices_last_week)\n",
    "\n",
    "# Display the prices on the current date\n",
    "print(prices_current_date)"
   ]
  },
  {
   "cell_type": "markdown",
   "metadata": {},
   "source": [
    "# Conclusion\n",
    "\n",
    "In this notebook, we explored the `HistoricalAveragePriceModel` class and its dependencies. We performed some basic EDA on our data and used the `HistoricalAveragePriceModel` class to calculate the average prices for the last week and the prices for a given date."
   ]
  }
 ],
 "metadata": {
  "kernelspec": {
   "display_name": "OpenEnergy",
   "language": "python",
   "name": "python3"
  },
  "language_info": {
   "codemirror_mode": {
    "name": "ipython",
    "version": 3
   },
   "file_extension": ".py",
   "mimetype": "text/x-python",
   "name": "python",
   "nbconvert_exporter": "python",
   "pygments_lexer": "ipython3",
   "version": "3.10.13"
  }
 },
 "nbformat": 4,
 "nbformat_minor": 2
}

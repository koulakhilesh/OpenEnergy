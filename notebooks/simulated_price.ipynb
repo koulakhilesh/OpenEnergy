{
 "cells": [
  {
   "cell_type": "markdown",
   "metadata": {},
   "source": [
    "# Simulated Price Model\n",
    "\n",
    "This notebook aims to provide an analysis of the Simulated Price Model. The Simulated Price Model is a Python class that generates a list of simulated prices based on certain parameters and adds noise to these prices. This model is useful for simulating the behavior of prices in a controlled environment.\n",
    "\n",
    "## Dependencies\n",
    "\n",
    "The Simulated Price Model depends on the following Python libraries:\n",
    "\n",
    "- datetime\n",
    "- math\n",
    "- random\n",
    "\n",
    "It also depends on the following interfaces:\n",
    "\n",
    "- IPriceData\n",
    "- IPriceEnvelopeGenerator\n",
    "- IPriceNoiseAdder\n",
    "\n",
    "Let's start by importing the necessary libraries and initializing the Simulated Price Model.# Price Simulator Analysis\n"
   ]
  },
  {
   "cell_type": "code",
   "execution_count": null,
   "metadata": {},
   "outputs": [],
   "source": [
    "# Importing necessary libraries\n",
    "import os\n",
    "import sys\n",
    "import matplotlib.pyplot as plt\n",
    "import seaborn as sns\n",
    "import datetime\n",
    "sns.set(style=\"whitegrid\")\n",
    "\n",
    "module_path = os.path.abspath(os.path.join('../'))\n",
    "\n",
    "if module_path not in sys.path:\n",
    "    sys.path.append(module_path)\n",
    "\n",
    "from scripts.prices import SimulatedPriceModel, SimulatedPriceEnvelopeGenerator, SimulatedPriceNoiseAdder\n",
    "\n"
   ]
  },
  {
   "cell_type": "markdown",
   "metadata": {},
   "source": [
    "Now, let's generate some prices for a specific date and visualize them."
   ]
  },
  {
   "cell_type": "code",
   "execution_count": null,
   "metadata": {},
   "outputs": [],
   "source": [
    "\n",
    "envelope_generator = SimulatedPriceEnvelopeGenerator()\n",
    "noise_adder = SimulatedPriceNoiseAdder()\n",
    "model = SimulatedPriceModel(envelope_generator, noise_adder)\n",
    "\n",
    "date = datetime.date.today()\n",
    "prices, prices_with_noise_and_spikes = model.get_prices(date)\n",
    "\n",
    "plt.figure(figsize=(10, 6))\n",
    "plt.plot(prices, label='Prices')\n",
    "plt.plot(prices_with_noise_and_spikes, label='Prices with Noise and Spikes')\n",
    "plt.title('Simulated Prices for ' + str(date))\n",
    "plt.xlabel('Interval (Hour)')\n",
    "plt.ylabel('Price (<Currency>/MWh)')\n",
    "plt.legend()\n",
    "plt.show()"
   ]
  }
 ],
 "metadata": {
  "kernelspec": {
   "display_name": "OpenEnergy",
   "language": "python",
   "name": "python3"
  },
  "language_info": {
   "codemirror_mode": {
    "name": "ipython",
    "version": 3
   },
   "file_extension": ".py",
   "mimetype": "text/x-python",
   "name": "python",
   "nbconvert_exporter": "python",
   "pygments_lexer": "ipython3",
   "version": "3.10.13"
  }
 },
 "nbformat": 4,
 "nbformat_minor": 2
}

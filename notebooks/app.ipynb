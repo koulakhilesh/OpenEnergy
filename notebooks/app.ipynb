{
 "cells": [
  {
   "cell_type": "code",
   "execution_count": 18,
   "metadata": {},
   "outputs": [
    {
     "data": {
      "application/vnd.jupyter.widget-view+json": {
       "model_id": "d4bb931687cc4b1e93bfa914a4f34451",
       "version_major": 2,
       "version_minor": 0
      },
      "text/plain": [
       "HTML(value='<h1>App: Energy Market Simulator</h1>')"
      ]
     },
     "metadata": {},
     "output_type": "display_data"
    },
    {
     "data": {
      "application/vnd.jupyter.widget-view+json": {
       "model_id": "4402a8378508430da2f7c26cae1f9298",
       "version_major": 2,
       "version_minor": 0
      },
      "text/plain": [
       "Box(children=(Label(value='Battery Capacity', layout=Layout(height='25px', margin='5px 0 0 0', width='150px'))…"
      ]
     },
     "metadata": {},
     "output_type": "display_data"
    },
    {
     "data": {
      "application/vnd.jupyter.widget-view+json": {
       "model_id": "b7d6470d15fd4233b57a8afec9109308",
       "version_major": 2,
       "version_minor": 0
      },
      "text/plain": [
       "Box(children=(Label(value='Start Date', layout=Layout(height='25px', margin='5px 0 0 0', width='150px')), Date…"
      ]
     },
     "metadata": {},
     "output_type": "display_data"
    },
    {
     "data": {
      "application/vnd.jupyter.widget-view+json": {
       "model_id": "83082a4908d24ed38a798887d05ee675",
       "version_major": 2,
       "version_minor": 0
      },
      "text/plain": [
       "Box(children=(Label(value='Price Model', layout=Layout(height='25px', margin='5px 0 0 0', width='150px')), Dro…"
      ]
     },
     "metadata": {},
     "output_type": "display_data"
    },
    {
     "data": {
      "application/vnd.jupyter.widget-view+json": {
       "model_id": "c77baa50dc7744bfa917a1632c0ce8b8",
       "version_major": 2,
       "version_minor": 0
      },
      "text/plain": [
       "Button(description='Run Simulation', layout=Layout(height='25px', margin='5px 0 0 0', width='150px'), style=Bu…"
      ]
     },
     "metadata": {},
     "output_type": "display_data"
    },
    {
     "data": {
      "application/vnd.jupyter.widget-view+json": {
       "model_id": "ff5ad324f37b4e3e8af6ddc00c66ce4a",
       "version_major": 2,
       "version_minor": 0
      },
      "text/plain": [
       "Output()"
      ]
     },
     "metadata": {},
     "output_type": "display_data"
    },
    {
     "data": {
      "application/vnd.jupyter.widget-view+json": {
       "model_id": "359eba54ed3847fe98fd85f95e69a861",
       "version_major": 2,
       "version_minor": 0
      },
      "text/plain": [
       "FigureWidget({\n",
       "    'data': [],\n",
       "    'layout': {'template': '...',\n",
       "               'xaxis': {'anchor': 'y', 'domain': [0.0, 1.0]},\n",
       "               'xaxis2': {'anchor': 'y2', 'domain': [0.0, 1.0]},\n",
       "               'yaxis': {'anchor': 'x', 'domain': [0.575, 1.0]},\n",
       "               'yaxis2': {'anchor': 'x2', 'domain': [0.0, 0.425]}}\n",
       "})"
      ]
     },
     "metadata": {},
     "output_type": "display_data"
    }
   ],
   "source": [
    "import ipywidgets as widgets\n",
    "from IPython.display import clear_output, display\n",
    "import requests\n",
    "import datetime\n",
    "import plotly.graph_objects as go\n",
    "from plotly.subplots import make_subplots\n",
    "\n",
    "\n",
    "\n",
    "# Create heading\n",
    "heading = widgets.HTML('<h1>App: Energy Market Simulator</h1>')\n",
    "\n",
    "# Create layout and style\n",
    "layout = widgets.Layout(width='150px', height='25px', margin='5px 0 0 0', background_color='lightgray', color='black')  # Set a fixed width and colors\n",
    "button_style = widgets.ButtonStyle(button_color='lightblue', font_weight='bold')\n",
    "csv_path_layout = widgets.Layout(width='300px', height='25px', margin='5px 0 0 0', background_color='lightgray', color='black')  # Set a fixed width and colors\n",
    "\n",
    "# Create widgets with layout\n",
    "battery_capacity = widgets.FloatSlider(min=1, max=50.0, step=1.0, value=1.0, layout=layout)\n",
    "charge_efficiency = widgets.FloatSlider(min=0.1, max=1, step=0.1, value=0.9, layout=layout)\n",
    "discharge_efficiency = widgets.FloatSlider(min=0.1, max=1, step=0.1, value=0.9, layout=layout)\n",
    "start_date = widgets.DatePicker(value=datetime.date(2015, 2, 1), layout=layout)\n",
    "end_date = widgets.DatePicker(value=datetime.date(2015, 2, 2), layout=layout)\n",
    "price_model = widgets.Dropdown(options=['SimulatedPriceModel','HistoricalPriceModel'], value='SimulatedPriceModel', layout=layout)\n",
    "# Create csv_path with new layout\n",
    "csv_path = widgets.Text(value='data/time_series/time_series_60min_singleindex_filtered.csv', layout=csv_path_layout, disabled=True)\n",
    "\n",
    "# Function to observe changes in price_model\n",
    "def on_price_model_change(change):\n",
    "    if change['new'] == 'HistoricalPriceModel':\n",
    "        csv_path.disabled = False\n",
    "    else:\n",
    "        csv_path.disabled = True\n",
    "\n",
    "# Observe changes in price_model\n",
    "price_model.observe(on_price_model_change, names='value')\n",
    "\n",
    "\n",
    "# Create labels\n",
    "battery_capacity_label = widgets.Label('Battery Capacity', layout=layout)\n",
    "charge_efficiency_label = widgets.Label('Charge Efficiency', layout=layout)\n",
    "discharge_efficiency_label = widgets.Label('Discharge Efficiency', layout=layout)\n",
    "start_date_label = widgets.Label('Start Date', layout=layout)\n",
    "end_date_label = widgets.Label('End Date', layout=layout)\n",
    "price_model_label = widgets.Label('Price Model', layout=layout)\n",
    "csv_path_label = widgets.Label('CSV Path', layout=layout)\n",
    "\n",
    "# Create button with style\n",
    "button = widgets.Button(description=\"Run Simulation\", style=button_style, layout=layout)\n",
    "\n",
    "# Create layout for Boxes\n",
    "box_layout = widgets.Layout(display='flex', flex_flow='row wrap', align_items='flex-start', width='auto')\n",
    "\n",
    "# Create spacers\n",
    "spacer = widgets.HTML(value=\"&nbsp;\"*5)\n",
    "\n",
    "# Create Boxes with box_layout and spacers\n",
    "first_line = widgets.Box([battery_capacity_label, battery_capacity, charge_efficiency_label, charge_efficiency, discharge_efficiency_label, discharge_efficiency], layout=box_layout)\n",
    "second_line = widgets.Box([start_date_label, start_date, spacer, end_date_label, end_date], layout=box_layout)\n",
    "third_line = widgets.Box([price_model_label, price_model, spacer, csv_path_label, csv_path], layout=box_layout)\n",
    "\n",
    "# Create an output widget\n",
    "out = widgets.Output()\n",
    "\n",
    "# Create a new figure widget\n",
    "fig = go.FigureWidget(make_subplots(rows=2, cols=1))\n",
    "\n",
    "# Display HBoxes, button, and output widget\n",
    "display(heading, first_line, second_line, third_line, button, out, fig)\n",
    "\n",
    "\n",
    "def on_button_clicked(b):\n",
    "\n",
    "    # Clear output\n",
    "    fig.data = []\n",
    "    \n",
    "    # Send GET request\n",
    "    response = requests.get('http://localhost:5000/simulate', params={\n",
    "        'battery_capacity': battery_capacity.value,\n",
    "        'charge_efficiency': charge_efficiency.value,\n",
    "        'discharge_efficiency': discharge_efficiency.value,\n",
    "        'start_date': start_date.value,\n",
    "        'end_date': end_date.value,\n",
    "        'price_model': price_model.value,\n",
    "        'csv_path': csv_path.value\n",
    "    })\n",
    "\n",
    "    # Convert response to JSON\n",
    "    data = response.json()\n",
    "\n",
    "    # Get unique dates\n",
    "    unique_dates = sorted(set(item['current_date'] for item in data))\n",
    "    \n",
    "    # Create a trace for each date\n",
    "    for date in unique_dates:\n",
    "        for item in data:\n",
    "            # Check if the current item's date matches the current date\n",
    "            if item['current_date'] == date:\n",
    "                # Get the data for the current date\n",
    "                schedule_df = item['schedule_df']\n",
    "                daily_pnl = item['daily_pnl']\n",
    "\n",
    "                # Convert Interval, Charge, Discharge, and SOC to lists\n",
    "                interval = list(schedule_df['Interval'].values())\n",
    "                charge = list(schedule_df['Charge'].values())\n",
    "                discharge = list(schedule_df['Discharge'].values())\n",
    "                soc = list(schedule_df['SOC'].values())\n",
    "\n",
    "                # Add bar plot for Charge and -1*Discharge to the first subplot\n",
    "                fig.add_trace(go.Bar(name='Charge', x=interval, y=charge, visible=False, marker=dict(color='blue')), row=1, col=1)\n",
    "                fig.add_trace(go.Bar(name='Discharge', x=interval, y=[-1*i for i in discharge], visible=False, marker=dict(color='red')), row=1, col=1)\n",
    "\n",
    "                # Add line plot for SOC to the second subplot\n",
    "                fig.add_trace(go.Scatter(name='SOC', x=interval, y=soc, mode='lines', visible=False, line=dict(color='green')), row=2, col=1)\n",
    "                                \n",
    "\n",
    "    # Make the traces and annotation for the first date visible\n",
    "    for i in range(3):  # Update this line\n",
    "        fig.data[i].visible = True\n",
    "\n",
    "    # Create a dropdown menu with one button for each date\n",
    "    buttons = []\n",
    "    for i, date in enumerate(unique_dates):\n",
    "        # Get the daily_pnl for the current date\n",
    "        daily_pnl = next(item['daily_pnl'] for item in data if item['current_date'] == date)\n",
    "\n",
    "        visible = [i==j for j in range(len(unique_dates))]\n",
    "        button = dict(\n",
    "            label = str(date),\n",
    "            method = 'update',\n",
    "            args = [{'visible': visible},\n",
    "                    {'title': f\"Charge/Discharge Action and SOC for {date}<br><sub>Daily PnL: {daily_pnl}</sub>\"}])\n",
    "        buttons.append(button)\n",
    "\n",
    "    # Add the dropdown menu to the plot\n",
    "    fig.update_layout(\n",
    "        updatemenus=[\n",
    "            dict(\n",
    "                active=0,\n",
    "                buttons=buttons,\n",
    "            )\n",
    "        ]\n",
    "    )\n",
    "    # Get the daily_pnl for the first date\n",
    "    first_date_pnl = next(item['daily_pnl'] for item in data if item['current_date'] == unique_dates[0])\n",
    "\n",
    "    # Update layout\n",
    "    fig.update_layout(height=600, width=800, \n",
    "                    title_text=f\"Charge/Discharge Action and SOC for {unique_dates[0]}<br><sub>Daily PnL: {first_date_pnl}</sub>\")\n",
    "\n",
    "\n",
    "\n",
    "\n",
    "button.on_click(on_button_clicked)"
   ]
  },
  {
   "cell_type": "code",
   "execution_count": null,
   "metadata": {},
   "outputs": [],
   "source": []
  },
  {
   "cell_type": "code",
   "execution_count": null,
   "metadata": {},
   "outputs": [],
   "source": []
  }
 ],
 "metadata": {
  "kernelspec": {
   "display_name": "OpenEnergy",
   "language": "python",
   "name": "python3"
  },
  "language_info": {
   "codemirror_mode": {
    "name": "ipython",
    "version": 3
   },
   "file_extension": ".py",
   "mimetype": "text/x-python",
   "name": "python",
   "nbconvert_exporter": "python",
   "pygments_lexer": "ipython3",
   "version": "3.10.13"
  }
 },
 "nbformat": 4,
 "nbformat_minor": 2
}

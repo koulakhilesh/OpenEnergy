{
 "cells": [
  {
   "cell_type": "code",
   "execution_count": 1,
   "metadata": {},
   "outputs": [],
   "source": [
    "import requests\n",
    "import pandas as pd\n",
    "from ipywidgets import FloatSlider, DatePicker, Text, Button, VBox\n",
    "from IPython.display import display\n",
    "from datetime import date"
   ]
  },
  {
   "cell_type": "code",
   "execution_count": 2,
   "metadata": {},
   "outputs": [],
   "source": [
    "# Create widgets\n",
    "battery_capacity = FloatSlider(min=0.1, max=10.0, step=0.1, value=1.0, description='Battery Capacity')\n",
    "charge_efficiency = FloatSlider(min=0.1, max=1.0, step=0.1, value=0.9, description='Charge Efficiency')\n",
    "discharge_efficiency = FloatSlider(min=0.1, max=1.0, step=0.1, value=0.9, description='Discharge Efficiency')\n",
    "start_date = DatePicker(value=date(2015, 2, 1), description='Start Date')\n",
    "end_date = DatePicker(value=date(2015, 2, 2), description='End Date')\n",
    "price_model = Text(value='SimulatedPriceModel', description='Price Model')\n",
    "csv_path = Text(value='data/time_series/time_series_60min_singleindex_filtered.csv', description='CSV Path')\n",
    "log_level = Text(value='INFO', description='Log Level')\n",
    "simulate_button = Button(description='Run Simulation')\n"
   ]
  },
  {
   "cell_type": "code",
   "execution_count": 3,
   "metadata": {},
   "outputs": [],
   "source": [
    "\n",
    "# Define button click action\n",
    "def on_button_clicked(b):\n",
    "    params = {\n",
    "        'battery_capacity': battery_capacity.value,\n",
    "        'charge_efficiency': charge_efficiency.value,\n",
    "        'discharge_efficiency': discharge_efficiency.value,\n",
    "        'start_date': start_date.value.strftime('%Y-%m-%d'),\n",
    "        'end_date': end_date.value.strftime('%Y-%m-%d'),\n",
    "        'price_model': price_model.value,\n",
    "        'csv_path': csv_path.value,\n",
    "        'log_level': log_level.value\n",
    "    }\n",
    "    response = requests.get('http://localhost:5000/simulate', params=params)\n",
    "    if response.status_code == 200:\n",
    "        data = response.json()\n",
    "        df = pd.DataFrame(data)\n",
    "        df.plot()  # Add your plot code here\n",
    "\n",
    "simulate_button.on_click(on_button_clicked)"
   ]
  },
  {
   "cell_type": "code",
   "execution_count": 4,
   "metadata": {},
   "outputs": [
    {
     "data": {
      "application/vnd.jupyter.widget-view+json": {
       "model_id": "6ab2b9e169304febb7ea5235c7563d8b",
       "version_major": 2,
       "version_minor": 0
      },
      "text/plain": [
       "VBox(children=(FloatSlider(value=1.0, description='Battery Capacity', max=10.0, min=0.1), FloatSlider(value=0.…"
      ]
     },
     "metadata": {},
     "output_type": "display_data"
    }
   ],
   "source": [
    "display(VBox([battery_capacity, charge_efficiency, discharge_efficiency, start_date, end_date, price_model, csv_path, log_level, simulate_button]))"
   ]
  },
  {
   "cell_type": "code",
   "execution_count": null,
   "metadata": {},
   "outputs": [],
   "source": []
  }
 ],
 "metadata": {
  "kernelspec": {
   "display_name": "OpenEnergy",
   "language": "python",
   "name": "python3"
  },
  "language_info": {
   "codemirror_mode": {
    "name": "ipython",
    "version": 3
   },
   "file_extension": ".py",
   "mimetype": "text/x-python",
   "name": "python",
   "nbconvert_exporter": "python",
   "pygments_lexer": "ipython3",
   "version": "3.10.13"
  }
 },
 "nbformat": 4,
 "nbformat_minor": 2
}

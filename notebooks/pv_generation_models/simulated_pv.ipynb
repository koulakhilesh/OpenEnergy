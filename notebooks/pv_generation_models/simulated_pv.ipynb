{
 "cells": [
  {
   "cell_type": "markdown",
   "metadata": {},
   "source": [
    "\n",
    "# Simulated PV Model\n",
    "\n",
    "This notebook aims to provide an analysis of the Simulated PV Model. The Simulated PV Model is a Python class that generates a list of simulated PV generation data based on certain parameters. This model is useful for simulating the behavior of PV generation in a controlled environment.\n",
    "\n",
    "Let's start by importing the necessary libraries and initializing the Simulated PV Model."
   ]
  },
  {
   "cell_type": "code",
   "execution_count": 5,
   "metadata": {},
   "outputs": [],
   "source": [
    "\n",
    "# Importing necessary libraries\n",
    "import os\n",
    "import sys\n",
    "import matplotlib.pyplot as plt\n",
    "import seaborn as sns\n",
    "import datetime\n",
    "sns.set_theme()\n",
    "\n",
    "module_path = os.path.abspath(os.path.join('../../'))\n",
    "if module_path not in sys.path:\n",
    "    sys.path.append(module_path)\n",
    "\n",
    "from scripts.pv_generation_models.simulated_pv_model import SimulatedPVGenerationModel, SimulatedPVGenerationEnvelopeGenerator, SimulatedPVGenerationNoiseAdder\n",
    "IMAGE_SAVING_LOCATION = os.path.join(module_path, 'images','notebook','pv_generation_models')\n",
    "\n"
   ]
  },
  {
   "cell_type": "code",
   "execution_count": 6,
   "metadata": {},
   "outputs": [
    {
     "ename": "TypeError",
     "evalue": "Can't instantiate abstract class SimulatedPVGenerationModel with abstract method get_generation",
     "output_type": "error",
     "traceback": [
      "\u001b[1;31m---------------------------------------------------------------------------\u001b[0m",
      "\u001b[1;31mTypeError\u001b[0m                                 Traceback (most recent call last)",
      "Cell \u001b[1;32mIn[6], line 3\u001b[0m\n\u001b[0;32m      1\u001b[0m envelope_generator \u001b[38;5;241m=\u001b[39m SimulatedPVGenerationEnvelopeGenerator()\n\u001b[0;32m      2\u001b[0m noise_adder \u001b[38;5;241m=\u001b[39m SimulatedPVGenerationNoiseAdder()\n\u001b[1;32m----> 3\u001b[0m model \u001b[38;5;241m=\u001b[39m \u001b[43mSimulatedPVGenerationModel\u001b[49m\u001b[43m(\u001b[49m\u001b[43menvelope_generator\u001b[49m\u001b[43m,\u001b[49m\u001b[43m \u001b[49m\u001b[43mnoise_adder\u001b[49m\u001b[43m)\u001b[49m\n\u001b[0;32m      5\u001b[0m date \u001b[38;5;241m=\u001b[39m datetime\u001b[38;5;241m.\u001b[39mdate\u001b[38;5;241m.\u001b[39mtoday()\n\u001b[0;32m      6\u001b[0m pv_generation, pv_generation_with_noise_and_spikes \u001b[38;5;241m=\u001b[39m model\u001b[38;5;241m.\u001b[39mget_generations(date)\n",
      "\u001b[1;31mTypeError\u001b[0m: Can't instantiate abstract class SimulatedPVGenerationModel with abstract method get_generation"
     ]
    }
   ],
   "source": [
    "\n",
    "envelope_generator = SimulatedPVGenerationEnvelopeGenerator()\n",
    "noise_adder = SimulatedPVGenerationNoiseAdder()\n",
    "model = SimulatedPVGenerationModel(envelope_generator, noise_adder)\n",
    "\n",
    "date = datetime.date.today()\n",
    "pv_generation, pv_generation_with_noise_and_spikes = model.get_generations(date)\n",
    "print(pv_generation)\n",
    "print(pv_generation_with_noise_and_spikes)\n",
    "\n",
    "# plt.figure(figsize=(10, 6))\n",
    "# plt.plot(pv_generation, label='PV Generation')\n",
    "# plt.plot(pv_generation_with_noise_and_spikes, label='PV Generation with Noise and Spikes')\n",
    "# plt.title('Simulated PV Generation for ' + str(date))\n",
    "# plt.xlabel('Interval (Hour)')\n",
    "# plt.ylabel('PV Generated (MWh)')\n",
    "# plt.legend()\n",
    "# plt.savefig(os.path.join(IMAGE_SAVING_LOCATION, 'simulated_pv_generation.png'))\n",
    "# plt.show()"
   ]
  },
  {
   "cell_type": "code",
   "execution_count": null,
   "metadata": {},
   "outputs": [],
   "source": [
    "\n",
    "\n",
    "  },\n",
    "  {\n",
    "   \"cell_type\": \"markdown\",\n",
    "   \"metadata\": {},\n",
    "   \"source\": [\n",
    "    \"Now, let's generate some PV generation data for a specific date and visualize them.\"\n",
    "   ]\n",
    "  },\n",
    "  {\n",
    "   \"cell_type\": \"code\",\n",
    "   \"execution_count\": 2,\n",
    "   \"metadata\": {},\n",
    "   \"outputs\": [],\n",
    "   \"source\": [\n",
    "    \"# Initialize the PV model\\n\",\n",
    "    \"pv_model = SimulatedPVModel()\\n\",\n",
    "    \"\\n\",\n",
    "    \"# Generate data\\n\",\n",
    "    \"date = datetime.date.today()\\n\",\n",
    "    \"pv_data = pv_model.get_generation_data(date)\\n\",\n",
    "    \"\\n\",\n",
    "    \"# Plot the results\\n\",\n",
    "    \"plt.figure(figsize=(10, 6))\\n\",\n",
    "    \"plt.plot(pv_data, label='PV Generation')\\n\",\n",
    "    \"plt.title('Simulated PV Generation for ' + str(date))\\n\",\n",
    "    \"plt.xlabel('Interval (Hour)')\\n\",\n",
    "    \"plt.ylabel('Generation (kWh)')\\n\",\n",
    "    \"plt.legend()\\n\",\n",
    "    \"plt.savefig(os.path.join(IMAGE_SAVING_LOCATION, 'simulated_pv_generation.png'))\\n\",\n",
    "    \"plt.show()\"\n",
    "   ]\n",
    "  }\n",
    " ],\n",
    " \"metadata\": {\n",
    "  \"kernelspec\": {\n",
    "   \"display_name\": \"OpenEnergy\",\n",
    "   \"language\": \"python\",\n",
    "   \"name\": \"python3\"\n",
    "  },\n",
    "  \"language_info\": {\n",
    "   \"codemirror_mode\": {\n",
    "    \"name\": \"ipython\",\n",
    "    \"version\": 3\n",
    "   },\n",
    "   \"file_extension\": \".py\",\n",
    "   \"mimetype\": \"text/x-python\",\n",
    "   \"name\": \"python\",\n",
    "   \"nbconvert_exporter\": \"python\",\n",
    "   \"pygments_lexer\": \"ipython3\",\n",
    "   \"version\": \"3.10.14\"\n",
    "  }\n",
    " },\n",
    " \"nbformat\": 4,\n",
    " \"nbformat_minor\": 5\n",
    "}"
   ]
  }
 ],
 "metadata": {
  "kernelspec": {
   "display_name": "OpenEnergy",
   "language": "python",
   "name": "python3"
  },
  "language_info": {
   "codemirror_mode": {
    "name": "ipython",
    "version": 3
   },
   "file_extension": ".py",
   "mimetype": "text/x-python",
   "name": "python",
   "nbconvert_exporter": "python",
   "pygments_lexer": "ipython3",
   "version": "3.10.14"
  }
 },
 "nbformat": 4,
 "nbformat_minor": 2
}

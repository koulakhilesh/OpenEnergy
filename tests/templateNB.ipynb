{
 "cells": [
  {
   "cell_type": "markdown",
   "id": "17ba55e6",
   "metadata": {},
   "source": [
    "# It is a template"
   ]
  },
  {
   "cell_type": "code",
   "execution_count": 1,
   "id": "c8d74bbe",
   "metadata": {},
   "outputs": [
    {
     "name": "stdout",
     "output_type": "stream",
     "text": [
      "\n",
      "Please wait a moment while I gather a list of all available modules...\n",
      "\n"
     ]
    },
    {
     "name": "stderr",
     "output_type": "stream",
     "text": [
      "/home/ess_admin/miniconda3/lib/python3.8/site-packages/IPython/kernel/__init__.py:12: ShimWarning: The `IPython.kernel` package has been deprecated since IPython 4.0.You should import from ipykernel or jupyter_client instead.\n",
      "  warn(\"The `IPython.kernel` package has been deprecated since IPython 4.0.\"\n",
      "/home/ess_admin/miniconda3/lib/python3.8/pkgutil.py:92: MatplotlibDeprecationWarning: \n",
      "The matplotlib.compat module was deprecated in Matplotlib 3.3 and will be removed two minor releases later.\n",
      "  __import__(info.name)\n"
     ]
    },
    {
     "name": "stdout",
     "output_type": "stream",
     "text": [
      "IPython             asyncore            ipython_genutils    scipy\n",
      "OpenSSL             atexit              isodate             secrets\n",
      "PIL                 attr                itertools           select\n",
      "PyQt5               audioop             jedi                selectors\n",
      "__future__          autoreload          jinja2              send2trash\n",
      "_abc                backcall            joblib              setuptools\n",
      "_ast                backports           json                shapely\n",
      "_asyncio            base64              jsonschema          shelve\n",
      "_bisect             bdb                 jupyter             shlex\n",
      "_blake2             binascii            jupyter_client      shutil\n",
      "_bootlocale         binhex              jupyter_core        signal\n",
      "_bz2                bisect              jupyterlab_pygments site\n",
      "_cffi_backend       bleach              keyword             six\n",
      "_codecs             builtins            kiwisolver          sklearn\n",
      "_codecs_cn          bz2                 lib2to3             smtpd\n",
      "_codecs_hk          cProfile            linecache           smtplib\n",
      "_codecs_iso2022     caffe2              llvmlite            sndhdr\n",
      "_codecs_jp          calendar            locale              socket\n",
      "_codecs_kr          certifi             logging             socketserver\n",
      "_codecs_tw          cffi                lzma                socks\n",
      "_collections        cgi                 mailbox             sockshandler\n",
      "_collections_abc    cgitb               mailcap             spwd\n",
      "_compat_pickle      chardet             markupsafe          sqlite3\n",
      "_compression        chunk               marshal             sre_compile\n",
      "_contextvars        click_plugins       math                sre_constants\n",
      "_crypt              cligj               matplotlib          sre_parse\n",
      "_csv                cmath               matplotlib_inline   ssl\n",
      "_ctypes             cmd                 mimetypes           stat\n",
      "_ctypes_test        code                mistune             statistics\n",
      "_curses             codecs              mmap                storemagic\n",
      "_curses_panel       codeop              modulefinder        string\n",
      "_datetime           collections         multiprocessing     stringprep\n",
      "_decimal            colorsys            munch               struct\n",
      "_dummy_thread       community           nbclient            subprocess\n",
      "_elementtree        compileall          nbconvert           sunau\n",
      "_functools          concurrent          nbformat            symbol\n",
      "_hashlib            conda               nest_asyncio        sympyprinting\n",
      "_heapq              conda_env           netrc               symtable\n",
      "_imp                conda_package_handling networkx            sys\n",
      "_io                 configparser        nis                 sysconfig\n",
      "_json               contextlib          nntplib             syslog\n",
      "_locale             contextvars         notebook            tabnanny\n",
      "_lsprof             copy                ntpath              tarfile\n",
      "_lzma               copyreg             nturl2path          telnetlib\n",
      "_markupbase         crypt               numba               tempfile\n",
      "_md5                cryptography        numbers             terminado\n",
      "_multibytecodec     csv                 numpy               termios\n",
      "_multiprocessing    ctypes              opcode              test\n",
      "_opcode             curses              operator            test_data\n",
      "_operator           cycler              optparse            test_pycosat\n",
      "_osx_support        cythonmagic         os                  testpath\n",
      "_pickle             dataclasses         ossaudiodev         tests\n",
      "_posixshmem         datetime            packaging           textwrap\n",
      "_posixsubprocess    dateutil            pandas              this\n",
      "_py_abc             dbm                 pandocfilters       threading\n",
      "_pydecimal          decimal             parser              threadpoolctl\n",
      "_pyio               decorator           parso               time\n",
      "_pyrsistent_version defusedxml          pathlib             timeit\n",
      "_queue              difflib             pdb                 tkinter\n",
      "_random             dis                 pexpect             token\n",
      "_remote_module_non_sriptable distutils           pickle              tokenize\n",
      "_sha1               doctest             pickleshare         torch\n",
      "_sha256             dummy_threading     pickletools         torch_cluster\n",
      "_sha3               easy_install        pip                 torch_geometric\n",
      "_sha512             email               pipes               torch_scatter\n",
      "_signal             encodings           pkg_resources       torch_sparse\n",
      "_sitebuiltins       ensurepip           pkgutil             torch_spline_conv\n",
      "_socket             entrypoints         platform            tornado\n",
      "_sqlite3            enum                plistlib            tqdm\n",
      "_sre                errno               poplib              trace\n",
      "_ssl                faulthandler        posix               traceback\n",
      "_stat               fcntl               posixpath           tracemalloc\n",
      "_statistics         filecmp             pprint              traitlets\n",
      "_string             fileinput           profile             tty\n",
      "_strptime           fiona               prometheus_client   turtle\n",
      "_struct             fnmatch             prompt_toolkit      turtledemo\n",
      "_symtable           formatter           pstats              types\n",
      "_sysconfigdata__linux_x86_64-linux-gnu fractions           pty                 typing\n",
      "_sysconfigdata_aarch64_conda_cos7_linux_gnu ftplib              ptyprocess          typing_extensions\n",
      "_sysconfigdata_i686_conda_cos6_linux_gnu functools           pvectorc            unicodedata\n",
      "_sysconfigdata_powerpc64le_conda_cos7_linux_gnu gc                  pwd                 unittest\n",
      "_sysconfigdata_x86_64_apple_darwin13_4_0 genericpath         py_compile          urllib\n",
      "_sysconfigdata_x86_64_conda_cos6_linux_gnu geopandas           pyclbr              urllib3\n",
      "_testbuffer         getopt              pycosat             uu\n",
      "_testcapi           getpass             pycparser           uuid\n",
      "_testimportmultiple gettext             pydoc               venv\n",
      "_testinternalcapi   glob                pydoc_data          warnings\n",
      "_testmultiphase     google_drive_downloader pyexpat             wave\n",
      "_thread             grp                 pygments            wcwidth\n",
      "_threading_local    gzip                pylab               weakref\n",
      "_tkinter            h5py                pyparsing           webbrowser\n",
      "_tracemalloc        hashlib             pyproj              webencodings\n",
      "_warnings           heapq               pyrsistent          wheel\n",
      "_weakref            hmac                pytz                widgetsnbextension\n",
      "_weakrefset         html                queue               wsgiref\n",
      "_xxsubinterpreters  http                quopri              xdrlib\n",
      "_xxtestfuzz         idlelib             random              xml\n",
      "abc                 idna                rdflib              xmlrpc\n",
      "aifc                imaplib             re                  xxlimited\n",
      "antigravity         imghdr              readline            xxsubtype\n",
      "argon2              imp                 reprlib             zipapp\n",
      "argparse            importlib           requests            zipfile\n",
      "array               importlib_metadata  resource            zipimport\n",
      "ase                 inspect             rlcompleter         zipp\n",
      "ast                 io                  rmagic              zlib\n",
      "async_generator     ipaddress           ruamel_yaml         zmq\n",
      "asynchat            ipykernel           runpy               \n",
      "asyncio             ipykernel_launcher  sched               \n",
      "\n",
      "Enter any module name to get more help.  Or, type \"modules spam\" to search\n",
      "for modules whose name or summary contain the string \"spam\".\n",
      "\n"
     ]
    },
    {
     "name": "stderr",
     "output_type": "stream",
     "text": [
      "/home/ess_admin/miniconda3/lib/python3.8/pkgutil.py:107: VisibleDeprecationWarning: zmq.eventloop.minitornado is deprecated in pyzmq 14.0 and will be removed.\n",
      "    Install tornado itself to use zmq with the tornado IOLoop.\n",
      "    \n",
      "  yield from walk_packages(path, info.name+'.', onerror)\n"
     ]
    }
   ],
   "source": [
    "help(\"modules\")"
   ]
  },
  {
   "cell_type": "code",
   "execution_count": null,
   "id": "bab1f6b0",
   "metadata": {},
   "outputs": [],
   "source": []
  }
 ],
 "metadata": {
  "kernelspec": {
   "display_name": "Python 3",
   "language": "python",
   "name": "python3"
  },
  "language_info": {
   "codemirror_mode": {
    "name": "ipython",
    "version": 3
   },
   "file_extension": ".py",
   "mimetype": "text/x-python",
   "name": "python",
   "nbconvert_exporter": "python",
   "pygments_lexer": "ipython3",
   "version": "3.8.3"
  }
 },
 "nbformat": 4,
 "nbformat_minor": 5
}
